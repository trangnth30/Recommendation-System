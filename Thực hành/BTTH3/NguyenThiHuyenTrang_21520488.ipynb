{
  "nbformat": 4,
  "nbformat_minor": 0,
  "metadata": {
    "colab": {
      "provenance": [],
      "toc_visible": true
    },
    "kernelspec": {
      "name": "python3",
      "display_name": "Python 3"
    },
    "language_info": {
      "name": "python"
    }
  },
  "cells": [
    {
      "cell_type": "markdown",
      "metadata": {
        "id": "V11tiprMtAWA"
      },
      "source": [
        "Họ và tên: Nguyễn Thị Huyền Trang\n",
        "\n",
        "MSSV: 21520488\n"
      ]
    },
    {
      "cell_type": "markdown",
      "source": [
        "# **LAB 03 - KHUYẾN NGHỊ DỰA TRÊN NỘI DUNG**"
      ],
      "metadata": {
        "id": "WWfAC8V7bgtD"
      }
    },
    {
      "cell_type": "code",
      "execution_count": null,
      "metadata": {
        "id": "ACF1z0NIafw5",
        "colab": {
          "base_uri": "https://localhost:8080/"
        },
        "outputId": "e9bff83c-5f2e-431a-aedf-b35b0e0448a0"
      },
      "outputs": [
        {
          "output_type": "stream",
          "name": "stderr",
          "text": [
            "[nltk_data] Downloading package stopwords to /root/nltk_data...\n",
            "[nltk_data]   Unzipping corpora/stopwords.zip.\n",
            "[nltk_data] Downloading package punkt to /root/nltk_data...\n",
            "[nltk_data]   Unzipping tokenizers/punkt.zip.\n"
          ]
        }
      ],
      "source": [
        "## Import Libraries\n",
        "import pandas as pd\n",
        "import numpy as np\n",
        "import matplotlib.pyplot as plt\n",
        "import seaborn as sns\n",
        "import time\n",
        "import re\n",
        "import nltk\n",
        "nltk.download('stopwords')\n",
        "nltk.download('punkt')\n",
        "\n",
        "from tqdm import tqdm\n",
        "from sklearn.feature_extraction.text import TfidfVectorizer\n",
        "from sklearn.metrics.pairwise import linear_kernel\n",
        "from nltk.corpus import stopwords\n",
        "from nltk.tokenize import word_tokenize\n",
        "\n",
        "pd.options.display.max_colwidth = 200\n",
        "sns.set()"
      ]
    },
    {
      "cell_type": "code",
      "metadata": {
        "id": "EFsWP1y43FOa",
        "colab": {
          "base_uri": "https://localhost:8080/"
        },
        "outputId": "d7d8bb4d-b751-4b08-c81d-6cd7eea99055"
      },
      "source": [
        "#Load dữ liệu movies_metadata.csv\n",
        "movies = pd.read_csv('/content/drive/MyDrive/Hệ khuyến nghị - DS300.P11/Lab03/dataset/movies_metadata.csv')"
      ],
      "execution_count": null,
      "outputs": [
        {
          "output_type": "stream",
          "name": "stderr",
          "text": [
            "<ipython-input-3-2ba472ef636c>:2: DtypeWarning: Columns (10) have mixed types. Specify dtype option on import or set low_memory=False.\n",
            "  movies = pd.read_csv('/content/drive/MyDrive/Hệ khuyến nghị - DS300.P11/Lab03/dataset/movies_metadata.csv')\n"
          ]
        }
      ]
    },
    {
      "cell_type": "code",
      "source": [
        "# Xuất ra overview của 5 bộ phim đầu tiên\n",
        "movies[['overview']].head(5)"
      ],
      "metadata": {
        "id": "B2cfNYJKBeyL",
        "colab": {
          "base_uri": "https://localhost:8080/",
          "height": 206
        },
        "outputId": "2c077df2-ecf7-45db-bf04-0f13c12be6be"
      },
      "execution_count": null,
      "outputs": [
        {
          "output_type": "execute_result",
          "data": {
            "text/plain": [
              "                                                                                                                                                                                                  overview\n",
              "0  Led by Woody, Andy's toys live happily in his room until Andy's birthday brings Buzz Lightyear onto the scene. Afraid of losing his place in Andy's heart, Woody plots against Buzz. But when circum...\n",
              "1  When siblings Judy and Peter discover an enchanted board game that opens the door to a magical world, they unwittingly invite Alan -- an adult who's been trapped inside the game for 26 years -- in...\n",
              "2  A family wedding reignites the ancient feud between next-door neighbors and fishing buddies John and Max. Meanwhile, a sultry Italian divorcée opens a restaurant at the local bait shop, alarming t...\n",
              "3  Cheated on, mistreated and stepped on, the women are holding their breath, waiting for the elusive \"good man\" to break a string of less-than-stellar lovers. Friends and confidants Vannah, Bernie, ...\n",
              "4  Just when George Banks has recovered from his daughter's wedding, he receives the news that she's pregnant ... and that George's wife, Nina, is expecting too. He was planning on selling their home..."
            ],
            "text/html": [
              "\n",
              "  <div id=\"df-b416e3ae-287f-4d94-b82b-810afce7d077\">\n",
              "    <div class=\"colab-df-container\">\n",
              "      <div>\n",
              "<style scoped>\n",
              "    .dataframe tbody tr th:only-of-type {\n",
              "        vertical-align: middle;\n",
              "    }\n",
              "\n",
              "    .dataframe tbody tr th {\n",
              "        vertical-align: top;\n",
              "    }\n",
              "\n",
              "    .dataframe thead th {\n",
              "        text-align: right;\n",
              "    }\n",
              "</style>\n",
              "<table border=\"1\" class=\"dataframe\">\n",
              "  <thead>\n",
              "    <tr style=\"text-align: right;\">\n",
              "      <th></th>\n",
              "      <th>overview</th>\n",
              "    </tr>\n",
              "  </thead>\n",
              "  <tbody>\n",
              "    <tr>\n",
              "      <th>0</th>\n",
              "      <td>Led by Woody, Andy's toys live happily in his room until Andy's birthday brings Buzz Lightyear onto the scene. Afraid of losing his place in Andy's heart, Woody plots against Buzz. But when circum...</td>\n",
              "    </tr>\n",
              "    <tr>\n",
              "      <th>1</th>\n",
              "      <td>When siblings Judy and Peter discover an enchanted board game that opens the door to a magical world, they unwittingly invite Alan -- an adult who's been trapped inside the game for 26 years -- in...</td>\n",
              "    </tr>\n",
              "    <tr>\n",
              "      <th>2</th>\n",
              "      <td>A family wedding reignites the ancient feud between next-door neighbors and fishing buddies John and Max. Meanwhile, a sultry Italian divorcée opens a restaurant at the local bait shop, alarming t...</td>\n",
              "    </tr>\n",
              "    <tr>\n",
              "      <th>3</th>\n",
              "      <td>Cheated on, mistreated and stepped on, the women are holding their breath, waiting for the elusive \"good man\" to break a string of less-than-stellar lovers. Friends and confidants Vannah, Bernie, ...</td>\n",
              "    </tr>\n",
              "    <tr>\n",
              "      <th>4</th>\n",
              "      <td>Just when George Banks has recovered from his daughter's wedding, he receives the news that she's pregnant ... and that George's wife, Nina, is expecting too. He was planning on selling their home...</td>\n",
              "    </tr>\n",
              "  </tbody>\n",
              "</table>\n",
              "</div>\n",
              "      <button class=\"colab-df-convert\" onclick=\"convertToInteractive('df-b416e3ae-287f-4d94-b82b-810afce7d077')\"\n",
              "              title=\"Convert this dataframe to an interactive table.\"\n",
              "              style=\"display:none;\">\n",
              "        \n",
              "  <svg xmlns=\"http://www.w3.org/2000/svg\" height=\"24px\"viewBox=\"0 0 24 24\"\n",
              "       width=\"24px\">\n",
              "    <path d=\"M0 0h24v24H0V0z\" fill=\"none\"/>\n",
              "    <path d=\"M18.56 5.44l.94 2.06.94-2.06 2.06-.94-2.06-.94-.94-2.06-.94 2.06-2.06.94zm-11 1L8.5 8.5l.94-2.06 2.06-.94-2.06-.94L8.5 2.5l-.94 2.06-2.06.94zm10 10l.94 2.06.94-2.06 2.06-.94-2.06-.94-.94-2.06-.94 2.06-2.06.94z\"/><path d=\"M17.41 7.96l-1.37-1.37c-.4-.4-.92-.59-1.43-.59-.52 0-1.04.2-1.43.59L10.3 9.45l-7.72 7.72c-.78.78-.78 2.05 0 2.83L4 21.41c.39.39.9.59 1.41.59.51 0 1.02-.2 1.41-.59l7.78-7.78 2.81-2.81c.8-.78.8-2.07 0-2.86zM5.41 20L4 18.59l7.72-7.72 1.47 1.35L5.41 20z\"/>\n",
              "  </svg>\n",
              "      </button>\n",
              "      \n",
              "  <style>\n",
              "    .colab-df-container {\n",
              "      display:flex;\n",
              "      flex-wrap:wrap;\n",
              "      gap: 12px;\n",
              "    }\n",
              "\n",
              "    .colab-df-convert {\n",
              "      background-color: #E8F0FE;\n",
              "      border: none;\n",
              "      border-radius: 50%;\n",
              "      cursor: pointer;\n",
              "      display: none;\n",
              "      fill: #1967D2;\n",
              "      height: 32px;\n",
              "      padding: 0 0 0 0;\n",
              "      width: 32px;\n",
              "    }\n",
              "\n",
              "    .colab-df-convert:hover {\n",
              "      background-color: #E2EBFA;\n",
              "      box-shadow: 0px 1px 2px rgba(60, 64, 67, 0.3), 0px 1px 3px 1px rgba(60, 64, 67, 0.15);\n",
              "      fill: #174EA6;\n",
              "    }\n",
              "\n",
              "    [theme=dark] .colab-df-convert {\n",
              "      background-color: #3B4455;\n",
              "      fill: #D2E3FC;\n",
              "    }\n",
              "\n",
              "    [theme=dark] .colab-df-convert:hover {\n",
              "      background-color: #434B5C;\n",
              "      box-shadow: 0px 1px 3px 1px rgba(0, 0, 0, 0.15);\n",
              "      filter: drop-shadow(0px 1px 2px rgba(0, 0, 0, 0.3));\n",
              "      fill: #FFFFFF;\n",
              "    }\n",
              "  </style>\n",
              "\n",
              "      <script>\n",
              "        const buttonEl =\n",
              "          document.querySelector('#df-b416e3ae-287f-4d94-b82b-810afce7d077 button.colab-df-convert');\n",
              "        buttonEl.style.display =\n",
              "          google.colab.kernel.accessAllowed ? 'block' : 'none';\n",
              "\n",
              "        async function convertToInteractive(key) {\n",
              "          const element = document.querySelector('#df-b416e3ae-287f-4d94-b82b-810afce7d077');\n",
              "          const dataTable =\n",
              "            await google.colab.kernel.invokeFunction('convertToInteractive',\n",
              "                                                     [key], {});\n",
              "          if (!dataTable) return;\n",
              "\n",
              "          const docLinkHtml = 'Like what you see? Visit the ' +\n",
              "            '<a target=\"_blank\" href=https://colab.research.google.com/notebooks/data_table.ipynb>data table notebook</a>'\n",
              "            + ' to learn more about interactive tables.';\n",
              "          element.innerHTML = '';\n",
              "          dataTable['output_type'] = 'display_data';\n",
              "          await google.colab.output.renderOutput(dataTable, element);\n",
              "          const docLink = document.createElement('div');\n",
              "          docLink.innerHTML = docLinkHtml;\n",
              "          element.appendChild(docLink);\n",
              "        }\n",
              "      </script>\n",
              "    </div>\n",
              "  </div>\n",
              "  "
            ]
          },
          "metadata": {},
          "execution_count": 4
        }
      ]
    },
    {
      "cell_type": "code",
      "source": [
        "# Viết hàm tiền xử lý dữ liệu trên cột overview\n",
        "def processing_data(data):\n",
        "  # Chuyển về từ thường\n",
        "  data = data.lower()\n",
        "  # Xóa dấu câu, ký tự đặc biệt\n",
        "  data = re.sub('\\W+',' ', data)\n",
        "  # Xóa khoảng trắng đầu và cuối câu\n",
        "  data = data.strip()\n",
        "  # Xóa stopword\n",
        "  data = ' '.join([word for word in data.split() if word not in stopwords.words(\"english\")])\n",
        "  # Tách từ\n",
        "  # word_tokens = word_tokenize(data)\n",
        "  # ...\n",
        "  return data"
      ],
      "metadata": {
        "id": "lP2uFZfk6AK8"
      },
      "execution_count": null,
      "outputs": []
    },
    {
      "cell_type": "code",
      "source": [
        "# Xử lý dữ liệu trên cột overview\n",
        "processing_data(movies['overview'])"
      ],
      "metadata": {
        "id": "rrRH_Dm99vae",
        "colab": {
          "base_uri": "https://localhost:8080/"
        },
        "outputId": "5966a8fd-6275-4e59-a7a1-196663e70411"
      },
      "execution_count": null,
      "outputs": [
        {
          "output_type": "stream",
          "name": "stderr",
          "text": [
            "  0%|          | 0/45466 [00:00<?, ?it/s]/usr/local/lib/python3.7/dist-packages/ipykernel_launcher.py:5: SettingWithCopyWarning: \n",
            "A value is trying to be set on a copy of a slice from a DataFrame\n",
            "\n",
            "See the caveats in the documentation: https://pandas.pydata.org/pandas-docs/stable/user_guide/indexing.html#returning-a-view-versus-a-copy\n",
            "  \"\"\"\n",
            "100%|██████████| 45466/45466 [06:48<00:00, 111.34it/s]\n"
          ]
        },
        {
          "output_type": "execute_result",
          "data": {
            "text/plain": [
              "0        led woody andy toys live happily room andy birthday brings buzz lightyear onto scene afraid losing place andy heart woody plots buzz circumstances separate buzz woody owner duo eventually learns p...\n",
              "1        siblings judy peter discover enchanted board game opens door magical world unwittingly invite alan adult trapped inside game 26 years living room alan hope freedom finish game proves risky three f...\n",
              "2        family wedding reignites ancient feud next door neighbors fishing buddies john max meanwhile sultry italian divorcée opens restaurant local bait shop alarming locals worry scare fish away less int...\n",
              "3                   cheated mistreated stepped women holding breath waiting elusive good man break string less stellar lovers friends confidants vannah bernie glo robin talk determined find better way breathe\n",
              "4                                                 george banks recovered daughter wedding receives news pregnant george wife nina expecting planning selling home plan like george change arrival grandchild kid\n",
              "                                                                                                          ...                                                                                                   \n",
              "45461                                                                                                                                                                                   rising falling man woman\n",
              "45462                                                                                                                                                     artist struggles finish work storyline cult plays head\n",
              "45463                                                                                                            one hits goes wrong professional assassin ends suitcase full million dollars belonging mob boss\n",
              "45464    small town live two brothers one minister one hunchback painter chapel lives wife one dreadful stormy night stranger knocks door asking shelter stranger talks good things earthly life minister mis...\n",
              "45465                                     50 years decriminalisation homosexuality uk director daisy asquith mines jewels bfi archive take us relationships desires fears expressions gay men women 20th century\n",
              "Name: overview, Length: 45466, dtype: object"
            ]
          },
          "metadata": {},
          "execution_count": 8
        }
      ]
    },
    {
      "cell_type": "code",
      "source": [
        "# Sử dụng TfidfVectorizer để chuyển cột overview của các bộ phim về tf-idf và lưu vào biến overview_matrix\n",
        "vectorizer = TfidfVectorizer(stop_words='english')\n",
        "overview_matrix = vectorizer.fit_transform(movies['overview'])"
      ],
      "metadata": {
        "id": "m_VHYP12_Tgw"
      },
      "execution_count": null,
      "outputs": []
    },
    {
      "cell_type": "code",
      "source": [
        "# In ra shape của overview_matrix nếu = (45466, 75827) là đúng.\n",
        "print(overview_matrix.shape)"
      ],
      "metadata": {
        "id": "oN38xXK8_TjV",
        "colab": {
          "base_uri": "https://localhost:8080/"
        },
        "outputId": "39c899cd-f236-4028-bf99-dabcdc923487"
      },
      "execution_count": null,
      "outputs": [
        {
          "output_type": "stream",
          "name": "stdout",
          "text": [
            "(45466, 75801)\n"
          ]
        }
      ]
    },
    {
      "cell_type": "code",
      "source": [
        "# Tính toán cosine giữa các bộ phim với nhau bằng linear_kernel\n",
        "cosine_sim = linear_kernel(overview_matrix, overview_matrix)\n",
        "cosine_sim"
      ],
      "metadata": {
        "id": "v7tygc7Y_Tlu",
        "colab": {
          "base_uri": "https://localhost:8080/"
        },
        "outputId": "002b4d08-8064-455c-a538-a4d04f3050c7"
      },
      "execution_count": null,
      "outputs": [
        {
          "output_type": "execute_result",
          "data": {
            "text/plain": [
              "array([[0.58098714, 0.        , 0.        , ..., 0.        , 0.01757945,\n",
              "        0.        ],\n",
              "       [0.        , 0.61125382, 0.02200543, ..., 0.03636249, 0.        ,\n",
              "        0.        ],\n",
              "       [0.        , 0.02200543, 0.46607905, ..., 0.        , 0.00649986,\n",
              "        0.00636462],\n",
              "       ...,\n",
              "       [0.        , 0.03636249, 0.        , ..., 0.6609658 , 0.        ,\n",
              "        0.        ],\n",
              "       [0.01757945, 0.        , 0.00649986, ..., 0.        , 0.39788609,\n",
              "        0.00550112],\n",
              "       [0.        , 0.        , 0.00636462, ..., 0.        , 0.00550112,\n",
              "        0.52920617]])"
            ]
          },
          "metadata": {},
          "execution_count": 13
        }
      ]
    },
    {
      "cell_type": "code",
      "source": [
        "# Đánh index cho các bộ phim bằng pd.Series() và lưu trong biến mapping\n",
        "mapping = pd.Series(movies.index, index=movies['title']).drop_duplicates()\n",
        "mapping"
      ],
      "metadata": {
        "id": "oBxJbCkn_ToV",
        "colab": {
          "base_uri": "https://localhost:8080/"
        },
        "outputId": "160cb06b-912c-4e9d-96df-a6935c601a9d"
      },
      "execution_count": null,
      "outputs": [
        {
          "output_type": "execute_result",
          "data": {
            "text/plain": [
              "title\n",
              "Toy Story                          0\n",
              "Jumanji                            1\n",
              "Grumpier Old Men                   2\n",
              "Waiting to Exhale                  3\n",
              "Father of the Bride Part II        4\n",
              "                               ...  \n",
              "Subdue                         45461\n",
              "Century of Birthing            45462\n",
              "Betrayal                       45463\n",
              "Satan Triumphant               45464\n",
              "Queerama                       45465\n",
              "Length: 45466, dtype: int64"
            ]
          },
          "metadata": {},
          "execution_count": 15
        }
      ]
    },
    {
      "cell_type": "code",
      "source": [
        "# Viết hàm nhận vào index của bộ phim trả về tên của bộ phim\n",
        "def get_title(index):\n",
        "  Title = movies.iloc[index]['title']\n",
        "  return Title"
      ],
      "metadata": {
        "id": "DvHf1QiX_Tqr"
      },
      "execution_count": null,
      "outputs": []
    },
    {
      "cell_type": "code",
      "source": [
        "get_title(4)"
      ],
      "metadata": {
        "colab": {
          "base_uri": "https://localhost:8080/",
          "height": 35
        },
        "id": "MxjHdwVGLero",
        "outputId": "7468f884-c351-4ccf-a6de-ffa07d536830"
      },
      "execution_count": null,
      "outputs": [
        {
          "output_type": "execute_result",
          "data": {
            "text/plain": [
              "'Father of the Bride Part II'"
            ],
            "application/vnd.google.colaboratory.intrinsic+json": {
              "type": "string"
            }
          },
          "metadata": {},
          "execution_count": 17
        }
      ]
    },
    {
      "cell_type": "code",
      "source": [
        "# Viết hàm trả và top 10 bộ phim sẽ đem đi khuyến nghị cho người dùng U. Người dung U đã xem bộ phim có tên là \"Father of the Bride Part II\"\n",
        "def get_recommendations(title, cosine_sim=cosine_sim):\n",
        "  idx = mapping[title]\n",
        "  sim_scores = list(enumerate(cosine_sim[idx]))\n",
        "  sim_scores = sorted(sim_scores, key=lambda x: x[1], reverse=True)\n",
        "  sim_scores = sim_scores[1:11]\n",
        "  movie_mapping = [i[0] for i in sim_scores]\n",
        "  return movies['title'].iloc[movie_mapping]"
      ],
      "metadata": {
        "id": "CLf-xGhF_TtE"
      },
      "execution_count": null,
      "outputs": []
    },
    {
      "cell_type": "code",
      "source": [
        "get_recommendations('Father of the Bride Part II')"
      ],
      "metadata": {
        "colab": {
          "base_uri": "https://localhost:8080/"
        },
        "id": "oDgZvynNKo_g",
        "outputId": "708f40be-54c1-4c70-e88a-483ffb85b361"
      },
      "execution_count": null,
      "outputs": [
        {
          "output_type": "execute_result",
          "data": {
            "text/plain": [
              "6306           North to Alaska\n",
              "13611      The Magic of Méliès\n",
              "19801                  Babbitt\n",
              "6571                     Kuffs\n",
              "5005                   Wendigo\n",
              "7097        The Out of Towners\n",
              "6793       Father of the Bride\n",
              "926      It's a Wonderful Life\n",
              "13928               Visioneers\n",
              "5571            All Night Long\n",
              "Name: title, dtype: object"
            ]
          },
          "metadata": {},
          "execution_count": 19
        }
      ]
    }
  ]
}